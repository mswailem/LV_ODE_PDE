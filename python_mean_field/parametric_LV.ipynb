{
 "cells": [
  {
   "cell_type": "code",
   "execution_count": null,
   "id": "87a5f627",
   "metadata": {
    "lines_to_next_cell": 0
   },
   "outputs": [],
   "source": [
    "import numpy as np\n",
    "from scipy.integrate import odeint\n",
    "import matplotlib.pyplot as plt\n",
    "import matplotlib.cm as cm\n",
    "import matplotlib.animation as animation"
   ]
  },
  {
   "cell_type": "code",
   "execution_count": null,
   "id": "6735b790",
   "metadata": {
    "lines_to_next_cell": 1
   },
   "outputs": [],
   "source": [
    "k0 = 0.0125\n",
    "k1 = 0.0111\n",
    "alpha = 1\n",
    "astar = 40\n",
    "n = 0.5\n",
    "da0 = 0.1\n",
    "db0 = 0.1\n",
    "def omega0():\n",
    "    temp1 = 1-k0\n",
    "    temp2 = 1/(2*np.sqrt(astar))\n",
    "    return temp2*np.sqrt(4*temp1**2-4*astar*k0*temp1-astar*k0**2)\n",
    "\n",
    "omega = omega0()/n\n",
    "\n",
    "def l(t):\n",
    "    return (1/astar)*(1-(1+astar)*(k0+alpha*k1*np.cos(omega*t)))\n",
    "\n",
    "def k(t):\n",
    "    return k0 + k1*np.cos(omega*t)\n",
    "\n",
    "def system(state, t):\n",
    "    a, b = state\n",
    "    da = l(t) *a*(b-1)\n",
    "    db = b*(1-k(t)*(a+b)-l(t)*a)\n",
    "    return [da,db]"
   ]
  },
  {
   "cell_type": "code",
   "execution_count": null,
   "id": "afeba3f2",
   "metadata": {
    "lines_to_next_cell": 0
   },
   "outputs": [],
   "source": [
    "# Initial conditions: x=10, y=5\n",
    "state0 = [astar + da0, 1 + db0]\n",
    "\n",
    "# Time array for solution\n",
    "t = np.arange(0.0, 100000.0, 1)"
   ]
  },
  {
   "cell_type": "code",
   "execution_count": null,
   "id": "06c47872",
   "metadata": {
    "lines_to_next_cell": 2
   },
   "outputs": [],
   "source": [
    "# Solve ODE system\n",
    "solution = odeint(system, state0, t)\n",
    "period = np.ceil(2*np.pi/omega)\n",
    "starting_period = 0\n",
    "end_period = 2\n",
    "n_periods = 5  # number of periods to plot\n",
    "colors = cm.rainbow(np.linspace(0, 1, n_periods))  # create a color map\n",
    "\n",
    "# Plot phase space\n",
    "fig, ax = plt.subplots()\n",
    "\n",
    "# Initialize a line object for the plot\n",
    "line, = ax.plot([], [], lw=2)\n",
    "\n",
    "# Set the axis limits\n",
    "ax.set_xlim(30, 60)\n",
    "ax.set_ylim(0, 5)\n",
    "\n",
    "# Initialization function for the animation\n",
    "lines = []\n",
    "\n",
    "# Animation function. This is called sequentially\n",
    "def animate(i):\n",
    "    start = 50000 + int(i * period)\n",
    "    end = 50000 + int((i + 1) * period)\n",
    "    print(start, end)\n",
    "    x = solution[start:end, 0]\n",
    "    y = solution[start:end, 1]\n",
    "    line, = ax.plot(x, y, color=colors[i])  # add a new line to the plot\n",
    "    lines.append(line)  # add the line to the list\n",
    "    return lines  # return the list of lines\n",
    "\n",
    "\n",
    "# Create the animation\n",
    "ani = animation.FuncAnimation(fig, animate, frames=n_periods, interval=2000, blit=True)\n",
    "\n",
    "plt.show()\n",
    "\n",
    "plt.xlabel('a')\n",
    "plt.ylabel('b')\n",
    "plt.title('Phase space of the system')\n",
    "plt.show()"
   ]
  }
 ],
 "metadata": {
  "kernelspec": {
   "display_name": "Python 3 (ipykernel)",
   "language": "python",
   "name": "python3"
  },
  "language_info": {
   "codemirror_mode": {
    "name": "ipython",
    "version": 3
   },
   "file_extension": ".py",
   "mimetype": "text/x-python",
   "name": "python",
   "nbconvert_exporter": "python",
   "pygments_lexer": "ipython3",
   "version": "3.10.12"
  }
 },
 "nbformat": 4,
 "nbformat_minor": 5
}
