{
 "cells": [
  {
   "cell_type": "code",
   "execution_count": null,
   "id": "a665bae7",
   "metadata": {
    "lines_to_next_cell": 0
   },
   "outputs": [],
   "source": [
    "import numpy as np\n",
    "import matplotlib.pyplot as plt\n",
    "import sympy as sp"
   ]
  },
  {
   "cell_type": "code",
   "execution_count": null,
   "id": "4fd91d8f",
   "metadata": {
    "lines_to_next_cell": 0
   },
   "outputs": [],
   "source": [
    "astar, t, amp, phi, o, kr = sp.symbols('a_s t A phi omega kappa_r', real=True, positive=True)\n",
    "sp.integrate(-(1/astar)*amp*sp.cos(sp.sqrt(1/astar)*t+phi), t)"
   ]
  },
  {
   "cell_type": "code",
   "execution_count": null,
   "id": "595e5db8",
   "metadata": {},
   "outputs": [],
   "source": [
    "a1, b1 = sp.Function('a_1')(t), sp.Function('b_1')(t)\n",
    "ft = 1+kr*sp.cos(2*o0*t)\n",
    "o0 = sp.sqrt(1/astar)\n",
    "a0 = amp*sp.cos(o0*t)\n",
    "b0 = -amp*o0*sp.sin(o0*t) # I am putting the integration constant to zero here, might have to revisit this\n",
    "pert1 = -(1+astar)*ft*b0\n",
    "pert2 = o0*o0*ft*a0-ft*b0\n",
    "eq1 = sp.Eq(a1.diff(t), b1 + pert1)\n",
    "eq2 = sp.Eq(b1.diff(t), -o0*o0 * a1 + pert2)\n",
    "\n",
    "# Solve the system of differential equations\n",
    "sol = sp.dsolve((eq1, eq2))"
   ]
  }
 ],
 "metadata": {
  "kernelspec": {
   "display_name": "Python 3",
   "language": "python",
   "name": "python3"
  },
  "language_info": {
   "codemirror_mode": {
    "name": "ipython",
    "version": 3
   },
   "file_extension": ".py",
   "mimetype": "text/x-python",
   "name": "python",
   "nbconvert_exporter": "python",
   "pygments_lexer": "ipython3",
   "version": "3.x"
  }
 },
 "nbformat": 4,
 "nbformat_minor": 4
}
