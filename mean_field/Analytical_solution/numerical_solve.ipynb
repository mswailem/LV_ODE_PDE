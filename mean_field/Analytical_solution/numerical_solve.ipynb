{
 "cells": [
  {
   "cell_type": "code",
   "execution_count": null,
   "id": "a665bae7",
   "metadata": {
    "lines_to_next_cell": 0
   },
   "outputs": [],
   "source": [
    "import numpy as np\n",
    "from scipy.integrate import solve_ivp\n",
    "import matplotlib.pyplot as plt\n",
    "import sympy as sp\n",
    "from scipy.signal import find_peaks"
   ]
  },
  {
   "cell_type": "code",
   "execution_count": null,
   "id": "92855070",
   "metadata": {
    "lines_to_next_cell": 0
   },
   "outputs": [],
   "source": [
    "# Numerical solution\n",
    "def LV_zero(t, y, m, l):\n",
    "    a, b = y\n",
    "    dadt = -m*a + l*a*b\n",
    "    dbdt = b*(1-b/k) - l*a*b\n",
    "    return [dadt, dbdt]"
   ]
  },
  {
   "cell_type": "code",
   "execution_count": null,
   "id": "9b934004",
   "metadata": {
    "lines_to_next_cell": 0
   },
   "outputs": [],
   "source": [
    "m = 0.01\n",
    "l = 0.1\n",
    "k = 1\n",
    "# fixed point is (1/l, m/l)\n",
    "y0_deviation = [1,1]\n",
    "y0 = [(1/l)*(1-(m/(l*k)))+y0_deviation[0], (m/l)+y0_deviation[1]]\n",
    "t_eval = np.linspace(0, 500, 5000)"
   ]
  },
  {
   "cell_type": "code",
   "execution_count": null,
   "id": "ce0f7b16",
   "metadata": {
    "lines_to_next_cell": 0
   },
   "outputs": [],
   "source": [
    "solution = solve_ivp(LV_zero, [0, 500], y0, args=(m, l), t_eval=t_eval)\n",
    "t = solution.t \n",
    "a = solution.y[0]\n",
    "b = solution.y[1]"
   ]
  },
  {
   "cell_type": "code",
   "execution_count": null,
   "id": "54aa5195",
   "metadata": {
    "lines_to_next_cell": 0
   },
   "outputs": [],
   "source": [
    "plt.figure(figsize=(10, 6))\n",
    "plt.plot(t, a, label='a')\n",
    "plt.plot(t, b, label='b')\n",
    "plt.legend()\n",
    "plt.show()"
   ]
  },
  {
   "cell_type": "code",
   "execution_count": null,
   "id": "71baf775",
   "metadata": {
    "lines_to_next_cell": 0
   },
   "outputs": [],
   "source": [
    "plt.plot(a, b, label='phase space plot')\n",
    "plt.xlabel('a')\n",
    "plt.ylabel('b')\n",
    "plt.legend()\n",
    "plt.show()"
   ]
  },
  {
   "cell_type": "code",
   "execution_count": null,
   "id": "7fccc926",
   "metadata": {
    "lines_to_next_cell": 0
   },
   "outputs": [],
   "source": [
    "peaks, _ = find_peaks(a)\n",
    "periods = np.diff(t[peaks])\n",
    "average_period = np.mean(periods)\n",
    "frequency = 1 / average_period\n",
    "print(frequency*2*np.pi, average_period)"
   ]
  },
  {
   "cell_type": "code",
   "execution_count": null,
   "id": "0b8996a8",
   "metadata": {
    "lines_to_next_cell": 0
   },
   "outputs": [],
   "source": [
    "if len(peaks) > 1:\n",
    "    midpoints = []\n",
    "    avg_a_periods = []\n",
    "    avg_b_periods = []\n",
    "    \n",
    "    for i in range(1, len(peaks)):\n",
    "        start_idx = peaks[i - 1]\n",
    "        end_idx = peaks[i]\n",
    "        midpoints.append((t[start_idx] + t[end_idx]) / 2)\n",
    "        avg_a_periods.append(np.mean(a[start_idx:end_idx]))\n",
    "        avg_b_periods.append(np.mean(b[start_idx:end_idx]))\n",
    "\n",
    "    # Plot the results\n",
    "    plt.figure(figsize=(12, 8))\n",
    "    plt.plot(midpoints, avg_a_periods, label='Average a over each period', marker='o')\n",
    "    plt.plot(midpoints, avg_b_periods, label='Average b over each period', marker='x')\n",
    "    plt.xlabel('Time (midpoint of periods)')\n",
    "    plt.ylabel('Average values')\n",
    "    plt.title('Average of a and b over each period as a function of time')\n",
    "    plt.legend()\n",
    "    plt.show()\n",
    "else:\n",
    "    print(\"Not enough peaks to compute averages over periods.\")"
   ]
  },
  {
   "cell_type": "code",
   "execution_count": null,
   "id": "66c7860e",
   "metadata": {
    "lines_to_next_cell": 0
   },
   "outputs": [],
   "source": [
    "fft_a = np.fft.fft(a)\n",
    "fft_b = np.fft.fft(b)\n",
    "fft_a[0] = 0\n",
    "fft_b[0] = 0\n",
    "sample_spacing = t[1] - t[0]\n",
    "frequencies = np.fft.fftfreq(a.size, d=sample_spacing)\n",
    "amplitude_a = np.abs(fft_a) / len(a)\n",
    "amplitude_b = np.abs(fft_b) / len(b)"
   ]
  },
  {
   "cell_type": "code",
   "execution_count": null,
   "id": "047a851d",
   "metadata": {},
   "outputs": [],
   "source": [
    "plt.figure(figsize=(12, 6))\n",
    "plt.plot(frequencies[:len(frequencies)//2], amplitude_a[:len(frequencies)//2], label='Amplitude of a')\n",
    "plt.plot(frequencies[:len(frequencies)//2], amplitude_b[:len(frequencies)//2], label='Amplitude of b')\n",
    "plt.xlabel('Frequency (Hz)')\n",
    "plt.ylabel('Amplitude')\n",
    "plt.title('Fourier Transform of a and b')\n",
    "plt.legend()\n",
    "plt.grid(True)\n",
    "plt.show()\n",
    "\n"
   ]
  },
  {
   "cell_type": "code",
   "execution_count": null,
   "id": "a607c6c5",
   "metadata": {
    "lines_to_next_cell": 0
   },
   "outputs": [],
   "source": [
    "# Analytical solution\n",
    "# TODO: perturbation expansion no longer works, might have to reparametrize the equations in terms of the fixed point\n",
    "t_s, l_s, m_s, k_s = sp.symbols('t lambda mu k', positive=True, real=True)\n",
    "a_s, b_s = sp.symbols('a b', cls=sp.Function)\n",
    "a_s = a_s(t_s)\n",
    "b_s = b_s(t_s)\n",
    "a_eq = sp.Eq(a_s.diff(t_s), -m_s*a_s + l_s*a_s*b_s)\n",
    "b_eq = sp.Eq(b_s.diff(t_s), b_s * (1-(b_s/k_s)) - l_s*a_s*b_s)"
   ]
  },
  {
   "cell_type": "code",
   "execution_count": null,
   "id": "eafa8fbe",
   "metadata": {
    "lines_to_next_cell": 0
   },
   "outputs": [],
   "source": [
    "# Equation for fluctuations around fixed point\n",
    "fixed_point = sp.solve([a_eq.rhs, b_eq.rhs], (a_s, b_s))\n",
    "fixed_point = fixed_point[2]\n",
    "subs = {a_s: a_s + fixed_point[0], b_s: b_s + fixed_point[1]}\n",
    "a_eq = a_eq.subs(subs).simplify()\n",
    "b_eq = b_eq.subs(subs).simplify()"
   ]
  },
  {
   "cell_type": "code",
   "execution_count": null,
   "id": "e846e6a8",
   "metadata": {
    "lines_to_next_cell": 0
   },
   "outputs": [],
   "source": [
    "# Expand the equation to n-th order in lambda\n",
    "n = 1\n",
    "a_terms = [sp.symbols(f'a{i}', cls=sp.Function)(t_s) for i in range(n + 1)]\n",
    "b_terms = [sp.symbols(f'b{i}', cls=sp.Function)(t_s) for i in range(n + 1)]\n",
    "a_expanded = sum(l_s**i * a_terms[i] for i in range(n + 1))\n",
    "b_expanded = sum(l_s**i * b_terms[i] for i in range(n + 1))\n",
    "subs = {a_s: a_expanded, b_s: b_expanded}\n",
    "a_rhs_expanded = a_eq.rhs.subs(subs).series(l_s, n=n+1).removeO()\n",
    "b_rhs_expanded = b_eq.rhs.subs(subs).series(l_s, n=n+1).removeO()\n",
    "a_rhs_coeffs = [a_rhs_expanded.coeff(l_s, i) for i in range(n + 1)]\n",
    "b_rhs_coeffs = [b_rhs_expanded.coeff(l_s, i) for i in range(n + 1)]"
   ]
  },
  {
   "cell_type": "code",
   "execution_count": null,
   "id": "cbc4c087",
   "metadata": {
    "lines_to_next_cell": 0
   },
   "outputs": [],
   "source": [
    "a0, b0 = sp.symbols('a_i b_i', real=True, positive=True)\n",
    "solution_s = []\n",
    "for i in range(n+1):\n",
    "    # Solve the equation to n-th order in lambda\n",
    "    a_eq_order_n = sp.Eq(a_terms[i].diff(t_s), a_rhs_coeffs[i])\n",
    "    b_eq_order_n = sp.Eq(b_terms[i].diff(t_s), b_rhs_coeffs[i])\n",
    "    ics = {a_terms[i].subs(t_s, 0): a0 if i == 0 else 0, b_terms[i].subs(t_s, 0): b0 if i == 0 else 0}\n",
    "    solution_s.append(sp.dsolve([a_eq_order_n, b_eq_order_n], ics=ics))\n",
    "    solution_s[i][0] = solution_s[i][0].simplify()\n",
    "    solution_s[i][1] = solution_s[i][1].simplify()\n",
    "    if i < n:\n",
    "        a_rhs_coeffs[i+1] = a_rhs_coeffs[i+1].subs({a_terms[i]: solution_s[i][0].rhs, b_terms[i]: solution_s[i][1].rhs})\n",
    "        b_rhs_coeffs[i+1] = b_rhs_coeffs[i+1].subs({b_terms[i]: solution_s[i][1].rhs, a_terms[i]: solution_s[i][0].rhs})\n",
    "        a_rhs_coeffs[i+1] = a_rhs_coeffs[i+1].simplify()\n",
    "        b_rhs_coeffs[i+1] = b_rhs_coeffs[i+1].simplify()"
   ]
  },
  {
   "cell_type": "code",
   "execution_count": null,
   "id": "37d98226",
   "metadata": {
    "lines_to_next_cell": 2
   },
   "outputs": [],
   "source": [
    "a_final = sp.Integer(0)\n",
    "b_final = sp.Integer(0)\n",
    "for i in range(n+1):\n",
    "    a_final += l**i * solution_s[i][0].rhs\n",
    "    b_final += l**i * solution_s[i][1].rhs\n",
    "a_solution = sp.lambdify(t_s, a_final.subs({l_s: l, m_s: m, a0: y0_deviation[0], b0: y0_deviation[1]}), 'numpy')\n",
    "b_solution = sp.lambdify(t_s, b_final.subs({l_s: l, m_s: m, a0: y0_deviation[0], b0: y0_deviation[1]}), 'numpy')\n",
    "a_analytical = (1/l) + a_solution(t)\n",
    "b_analytical = (m/l) + b_solution(t)\n",
    "plt.figure(figsize=(10, 6))\n",
    "plt.plot(t, a_analytical, label='a analytical')\n",
    "plt.plot(t, a, label='a numerical')\n",
    "plt.legend()\n",
    "plt.show()"
   ]
  }
 ],
 "metadata": {
  "kernelspec": {
   "display_name": "Python 3",
   "language": "python",
   "name": "python3"
  },
  "language_info": {
   "codemirror_mode": {
    "name": "ipython",
    "version": 3
   },
   "file_extension": ".py",
   "mimetype": "text/x-python",
   "name": "python",
   "nbconvert_exporter": "python",
   "pygments_lexer": "ipython3",
   "version": "3.x"
  }
 },
 "nbformat": 4,
 "nbformat_minor": 4
}
