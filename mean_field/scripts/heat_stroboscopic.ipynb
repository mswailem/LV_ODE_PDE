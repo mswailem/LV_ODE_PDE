{
 "cells": [
  {
   "cell_type": "code",
   "execution_count": null,
   "id": "d36d73f9-29cc-4aac-a89d-729757ce92f2",
   "metadata": {
    "lines_to_next_cell": 0
   },
   "outputs": [],
   "source": [
    "import numpy as np\n",
    "import matplotlib.pyplot as plt\n",
    "import pandas as pd\n",
    "from matplotlib.colors import LinearSegmentedColormap\n",
    "plt.rcParams.update({'font.size': 32})  # You can change 14 to any size you prefer"
   ]
  },
  {
   "cell_type": "code",
   "execution_count": null,
   "id": "9452f2b7",
   "metadata": {},
   "outputs": [],
   "source": [
    "# Importing data\n",
    "filename = 'alpha_1'\n",
    "data = np.loadtxt('../output/bifurcation/draft_SH_tongue/' + filename + '.dat')\n",
    "\n",
    "# Extracting columns\n",
    "x = data[:, 0]\n",
    "y = data[:, 1]\n",
    "z = data[:, 2]\n",
    "df = pd.DataFrame({'X': x, 'Y': y, 'Z': z})\n",
    "\n",
    "# Range of plot\n",
    "x_range = (0.4, 1)  # Replace with your desired x-range (min, max)\n",
    "y_range = (0.18, 0.25)  # Replace with your desired y-range (min, max)\n",
    "\n",
    "# Filter the data based on the range\n",
    "filtered_df = df[(df['X'] >= x_range[0]) & (df['X'] <= x_range[1]) &\n",
    "                 (df['Y'] >= y_range[0]) & (df['Y'] <= y_range[1])]\n",
    "\n",
    "# Pivot the data to create a 2D grid for the heatmap\n",
    "heatmap_data = filtered_df.pivot(index='Y', columns='X', values='Z')\n",
    "\n",
    "# Custom colorbar\n",
    "seismic_custom = LinearSegmentedColormap.from_list(\n",
    "    'seismic_custom', \n",
    "    [(0, 'black'),  # Black at the minimum (1)\n",
    "     (0.2, 'blue'),  # Transition through blue\n",
    "     (1, 'red')]     # Red at the maximum\n",
    ")"
   ]
  },
  {
   "cell_type": "code",
   "execution_count": null,
   "id": "dcddb433",
   "metadata": {},
   "outputs": [],
   "source": [
    "# Plot the heatmap\n",
    "\n",
    "# Colorbar limits\n",
    "vmin = 1\n",
    "vmax = 13\n",
    "\n",
    "plt.figure(figsize=(10, 8))\n",
    "plt.imshow(\n",
    "    heatmap_data, \n",
    "    aspect='auto', \n",
    "    cmap=seismic_custom, \n",
    "    origin='lower', \n",
    "    vmin=vmin, \n",
    "    vmax=vmax,\n",
    "    extent=[x_range[0], x_range[1], y_range[0], y_range[1]]  # Use extent for axis scaling\n",
    ")\n",
    "cbar = plt.colorbar(label=r'$T/T_f$')\n",
    "plt.xlabel('n')\n",
    "plt.ylabel(r'$\\kappa_1$')\n",
    "plt.title(r'$\\alpha = 1$')\n",
    "# Adjust the ticks to avoid overlap\n",
    "plt.tick_params(axis='x', pad=10)  # Add padding for x-ticks\n",
    "plt.tick_params(axis='y', pad=10)  # Add padding for y-ticks\n",
    "plt.savefig('../plots/draft_alpha_SH_tongue/' + filename + '.pdf', bbox_inches='tight', dpi=300)\n",
    "plt.show()"
   ]
  }
 ],
 "metadata": {
  "kernelspec": {
   "display_name": "Python 3 (ipykernel)",
   "language": "python",
   "name": "python3"
  },
  "language_info": {
   "codemirror_mode": {
    "name": "ipython",
    "version": 3
   },
   "file_extension": ".py",
   "mimetype": "text/x-python",
   "name": "python",
   "nbconvert_exporter": "python",
   "pygments_lexer": "ipython3",
   "version": "3.10.12"
  }
 },
 "nbformat": 4,
 "nbformat_minor": 5
}
