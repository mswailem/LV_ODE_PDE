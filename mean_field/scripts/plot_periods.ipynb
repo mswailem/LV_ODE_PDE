{
 "cells": [
  {
   "cell_type": "code",
   "execution_count": null,
   "id": "9bf3d1db-e0df-4583-8867-af319facaa75",
   "metadata": {
    "lines_to_next_cell": 0
   },
   "outputs": [],
   "source": [
    "import numpy as np\n",
    "import matplotlib.pyplot as plt\n",
    "import matplotlib.cm as cm"
   ]
  },
  {
   "cell_type": "code",
   "execution_count": null,
   "id": "b6a92eea",
   "metadata": {
    "lines_to_next_cell": 0
   },
   "outputs": [],
   "source": [
    "# Setting variables\n",
    "path = \"../output/time_series/\"\n",
    "transient = 500\n",
    "n_periods = 12\n",
    "file = \"12_orbit.dat\""
   ]
  },
  {
   "cell_type": "code",
   "execution_count": null,
   "id": "0291d823",
   "metadata": {
    "lines_to_next_cell": 0
   },
   "outputs": [],
   "source": [
    "# Importing data\n",
    "data = np.loadtxt(path + file)\n",
    "a = data[transient*100:, 1]\n",
    "b = data[transient*100:, 2]"
   ]
  },
  {
   "cell_type": "code",
   "execution_count": null,
   "id": "6f20b7e1",
   "metadata": {},
   "outputs": [],
   "source": [
    "# Plotting\n",
    "colors = cm.rainbow(np.linspace(0, 1, n_periods))\n",
    "fig = plt.figure(figsize=(6, 6))\n",
    "point_size = 10\n",
    "\n",
    "for i in range(n_periods):\n",
    "    plt.scatter(a[i*100:(i+1)*100+1], b[i*100:(i+1)*100+1], color=colors[i], s=point_size, label=f'Period {i+1}')\n",
    "    # plt.plot(a[i*100:(i+1)*100+1], b[i*100:(i+1)*100+1], color=colors[i], label=f'Period {i+1}')\n",
    "\n",
    "plt.legend()\n",
    "plt.xlabel('a')\n",
    "plt.ylabel('b')\n",
    "plt.show()"
   ]
  }
 ],
 "metadata": {
  "kernelspec": {
   "display_name": "Python 3 (ipykernel)",
   "language": "python",
   "name": "python3"
  },
  "language_info": {
   "codemirror_mode": {
    "name": "ipython",
    "version": 3
   },
   "file_extension": ".py",
   "mimetype": "text/x-python",
   "name": "python",
   "nbconvert_exporter": "python",
   "pygments_lexer": "ipython3",
   "version": "3.10.12"
  }
 },
 "nbformat": 4,
 "nbformat_minor": 5
}
