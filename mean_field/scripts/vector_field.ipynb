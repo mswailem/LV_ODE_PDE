{
 "cells": [
  {
   "cell_type": "code",
   "execution_count": null,
   "id": "9bf3d1db-e0df-4583-8867-af319facaa75",
   "metadata": {
    "lines_to_next_cell": 0
   },
   "outputs": [],
   "source": [
    "import numpy as np\n",
    "import matplotlib.pyplot as plt\n",
    "from matplotlib.animation import FuncAnimation"
   ]
  },
  {
   "cell_type": "code",
   "execution_count": null,
   "id": "a50d5f6b",
   "metadata": {
    "lines_to_next_cell": 0
   },
   "outputs": [],
   "source": [
    "# Define the system of ODEs\n",
    "def omega0(k0, astar):\n",
    "    sqrt_term = 4*(1-k0)**2-4*astar*k0*(1-k0)-astar*k0**2\n",
    "    denom = 2*np.sqrt(astar)\n",
    "    return np.sqrt(sqrt_term)/denom\n",
    "\n",
    "def k(t, k0, k1, n, astar):\n",
    "    return k0 + k1*np.cos(omega0(k0, astar)*t/n)\n",
    "\n",
    "def l(t, alpha, k0, k1, n, astar):\n",
    "    l1 = (1/astar)*(1-k(t, k0, k1, n, astar))-k(t, k0, k1, n, astar)\n",
    "    l0 = (1/astar)*(1-k0)-k0\n",
    "    return alpha*l1 + (1-alpha)*l0\n",
    "\n",
    "def sys(t, y, alpha, k0, k1, n, astar):\n",
    "    a, b = y\n",
    "    dadt = l(t, alpha, k0, k1, n, astar)*a*(b-1) \n",
    "    dbdt = b*(1-k(t, k0, k1, n, astar)*(a+b)-l(t, alpha, k0, k1, n, astar)*a)\n",
    "    return dadt, dbdt"
   ]
  },
  {
   "cell_type": "code",
   "execution_count": null,
   "id": "7557e63a",
   "metadata": {},
   "outputs": [],
   "source": [
    "# Parameters\n",
    "alpha = 1\n",
    "k0 = 0.0125\n",
    "k1 = 0.0113\n",
    "n = 0.5\n",
    "astar = 40\n",
    "# t = 0\n",
    "\n",
    "# Plotting the vector field\n",
    "\n",
    "# Create a grid of points\n",
    "x = np.linspace(30, 50, 20)\n",
    "y = np.linspace(0, 5, 20)\n",
    "\n",
    "X, Y = np.meshgrid(x, y)\n",
    "\n",
    "# Initialize the quiver plot\n",
    "fig, ax = plt.subplots()\n",
    "Q = ax.quiver(X, Y, np.zeros(X.shape), np.zeros(Y.shape), cmap=plt.cm.jet)\n",
    "\n",
    "# Update function for the animation\n",
    "def update(num):\n",
    "    U, V = np.zeros(X.shape), np.zeros(Y.shape)\n",
    "    NI, NJ = X.shape\n",
    "\n",
    "    for i in range(NI):\n",
    "        for j in range(NJ):\n",
    "            x = X[i, j]\n",
    "            y = Y[i, j]\n",
    "            yprime = sys(num, (x, y), alpha, k0, k1, n, astar)\n",
    "            U[i,j] = yprime[0]\n",
    "            V[i,j] = yprime[1]\n",
    "\n",
    "    N = np.sqrt(U**2+V**2)  \n",
    "    U = U/N\n",
    "    V = V/N\n",
    "\n",
    "    Q.set_UVC(U, V)\n",
    "    return Q,\n",
    "\n",
    "# Create the animation\n",
    "ani = FuncAnimation(fig, update, frames=np.linspace(0, 2*np.pi/omega0(k0, astar), 100), blit=True)\n",
    "\n",
    "plt.title('Vector field of the system of ODEs')\n",
    "plt.xlabel('x')\n",
    "plt.ylabel('y')\n",
    "plt.show()"
   ]
  }
 ],
 "metadata": {
  "kernelspec": {
   "display_name": "Python 3 (ipykernel)",
   "language": "python",
   "name": "python3"
  },
  "language_info": {
   "codemirror_mode": {
    "name": "ipython",
    "version": 3
   },
   "file_extension": ".py",
   "mimetype": "text/x-python",
   "name": "python",
   "nbconvert_exporter": "python",
   "pygments_lexer": "ipython3",
   "version": "3.10.12"
  }
 },
 "nbformat": 4,
 "nbformat_minor": 5
}
